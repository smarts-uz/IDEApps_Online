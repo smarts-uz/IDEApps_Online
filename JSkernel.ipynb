{
 "cells": [
  {
   "cell_type": "markdown",
   "source": [
    "# Java Script Kernel instalation\n",
    "write it in terminal:\n",
    "### git clone https://github.com/npm/cli.git\n",
    "### npm install ijavascript\n",
    "### ijsinstall\n"
   ],
   "metadata": {
    "collapsed": false
   }
  },
  {
   "cell_type": "code",
   "execution_count": null,
   "outputs": [],
   "source": [
    "var msg = [\"Hello\", \"World\"].join(\",\")"
   ],
   "metadata": {
    "collapsed": false
   }
  },
  {
   "cell_type": "code",
   "execution_count": null,
   "outputs": [],
   "source": [
    "msg"
   ],
   "metadata": {
    "collapsed": false
   }
  },
  {
   "cell_type": "code",
   "execution_count": null,
   "outputs": [],
   "source": [
    "console.error(msg)"
   ],
   "metadata": {
    "collapsed": false
   }
  },
  {
   "cell_type": "code",
   "execution_count": null,
   "outputs": [],
   "source": [
    "throw new Error(\"Oh noes!\")"
   ],
   "metadata": {
    "collapsed": false
   }
  },
  {
   "cell_type": "markdown",
   "source": [
    "# Unit test in Java Script\n",
    "installation:\n",
    "### npm install unit.js"
   ],
   "metadata": {
    "collapsed": false
   }
  },
  {
   "cell_type": "code",
   "execution_count": null,
   "outputs": [],
   "source": [
    "const test = require('unit.js');\n",
    "\n",
    "describe('Learning by the example', function(){\n",
    "  it('example variable', function(){\n",
    "\n",
    "    // just for example of tested value\n",
    "    const example = 'hello world';\n",
    "\n",
    "    test\n",
    "      .string(example)\n",
    "        .startsWith('hello')\n",
    "        .match(/[a-z]/)\n",
    "\n",
    "      .given(example = 'you are welcome')\n",
    "        .string(example)\n",
    "          .endsWith('welcome')\n",
    "          .contains('you')\n",
    "\n",
    "      .when('\"example\" becomes an object', function(){\n",
    "        example = {\n",
    "          message : 'hello world',\n",
    "          name    : 'Nico',\n",
    "          job     : 'developper',\n",
    "          from    : 'France'\n",
    "        };\n",
    "      })\n",
    "\n",
    "      .then('test the \"example\" object', function(){\n",
    "        test\n",
    "          .object(example)\n",
    "            .hasValue('developper')\n",
    "            .hasProperty('name')\n",
    "            .hasProperty('from', 'France')\n",
    "            .contains({message: 'hello world'})\n",
    "        ;\n",
    "      })\n",
    "\n",
    "      .if(example = 'bad value')\n",
    "        .error(function(){\n",
    "          example.badMethod();\n",
    "        })\n",
    "    ;\n",
    "\n",
    "  });\n",
    "\n",
    "  it('other test case', function(){\n",
    "    // other tests ...\n",
    "  });\n",
    "\n",
    "});"
   ],
   "metadata": {
    "collapsed": false
   }
  }
 ],
 "metadata": {
  "kernelspec": {
   "display_name": "Python 3",
   "language": "python",
   "name": "python3"
  },
  "language_info": {
   "codemirror_mode": {
    "name": "ipython",
    "version": 2
   },
   "file_extension": ".py",
   "mimetype": "text/x-python",
   "name": "python",
   "nbconvert_exporter": "python",
   "pygments_lexer": "ipython2",
   "version": "2.7.6"
  }
 },
 "nbformat": 4,
 "nbformat_minor": 0
}
